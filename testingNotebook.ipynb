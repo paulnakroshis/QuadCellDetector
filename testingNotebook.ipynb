{
 "cells": [
  {
   "cell_type": "markdown",
   "metadata": {},
   "source": [
    "# Computation of expected signal for a centered Gaussian Beam\n",
    "\n",
    "The expected signal for a centered Gaussian beam with standard deviation $\\sigma$ \n",
    "whose intensity is \n",
    "$$\\color{blue}{ I(x,y) = \\frac{1}{2\\pi \\sigma^2} e^{-\\frac{x^2 + y^2}{2\\sigma^2}}} $$\n",
    "depends upon the detector radius ($R$), and the width of the gap ($\\delta$) \n",
    "between the quadrants. Because of the gap between the quadrants, some of the light\n",
    "intensity is lost and thus the net signal obtained will decrease as the gap size increases.\n",
    "This notebook computes a function that gives us the total expected signal; the theoretical value is\n",
    "\n",
    "$$\\color{blue}{\\mathrm{TotalSignal} = 4\\int_0^R dx\\int_0^{\\sqrt{R^2 -x^2}}dy\\;\\frac{1}{2\\pi \\sigma^2} e^{-\\frac{x^2 + y^2}{2\\sigma^2}} - 8\\int_{\\delta}^R dx\\int_{\\delta}^{\\sqrt{R^2 -x^2}}dy\\;\\frac{1}{2\\pi \\sigma^2} e^{-\\frac{x^2 + y^2}{2\\sigma^2}} -4\\int_0^{\\delta} dx\\int_0^{\\delta} dy\\;\\frac{1}{2\\pi \\sigma^2} e^{-\\frac{x^2 + y^2}{2\\sigma^2}} }$$\n",
    "\n",
    "This notebook numerically evaluates this TotalSignal function and makes some plots and computes values so that we can test our computational model. "
   ]
  },
  {
   "cell_type": "code",
   "execution_count": 5,
   "metadata": {
    "inputHidden": false,
    "outputHidden": false
   },
   "outputs": [],
   "source": [
    "from scipy import integrate\n",
    "import numpy as np\n",
    "import matplotlib.pyplot as plt\n",
    "from pylab import rcParams\n",
    "\n",
    "from matplotlib import rc\n",
    "rc('text', usetex=True)\n",
    "\n",
    "plt.rcParams['xtick.labelsize']=16\n",
    "plt.rcParams['ytick.labelsize']=16\n",
    "rcParams['figure.figsize'] = 12, 8\n",
    "\n",
    "\n",
    "import quadrantdetector.detector as qd\n",
    "import quadrantdetector.sample_functions as qsf\n",
    "\n"
   ]
  },
  {
   "cell_type": "code",
   "execution_count": 2,
   "metadata": {
    "inputHidden": false,
    "outputHidden": false
   },
   "outputs": [],
   "source": [
    "\n",
    "def DeltaSignalSlice(start, stop, N, sigma, R):\n",
    "    deltaSignal = np.array([])\n",
    "    val = np.linspace(start,stop,N)\n",
    "    for i in val:\n",
    "        deltaSignal = np.append(deltaSignal, qd.total_signal(i, sigma, R))\n",
    "   \n",
    "    return val, deltaSignal\n",
    "  \n",
    "def SigmaSignalSlice(start, stop, N, delta, R):\n",
    "    sigmaSignal = np.array([])\n",
    "    sigma = np.linspace(start,stop,N)\n",
    "    for i in sigma:\n",
    "        sigmaSignal = np.append(sigmaSignal,qd.total_signal(delta, i, R))\n",
    "        \n",
    "    return sigma, sigmaSignal\n",
    "  \n"
   ]
  },
  {
   "cell_type": "code",
   "execution_count": 26,
   "metadata": {
    "inputHidden": false,
    "outputHidden": false
   },
   "outputs": [
    {
     "name": "stdout",
     "output_type": "stream",
     "text": [
      "(100,)\n"
     ]
    },
    {
     "data": {
      "image/png": "[encoded data removed]",
      "text/plain": [
       "<Figure size 864x576 with 1 Axes>"
      ]
     },
     "metadata": {
      "needs_background": "light"
     },
     "output_type": "display_data"
    },
    {
     "name": "stdout",
     "output_type": "stream",
     "text": [
      "3.644545454545454\n"
     ]
    }
   ],
   "source": [
    "axis_size = 1000  # cells\n",
    "detector_size = 10  #  diameter in mm\n",
    "gap = \n",
    "\n",
    "detect = qd.create_detector(axis_size, detector_size, gap)\n",
    "\n",
    "\n",
    "\n",
    "sigma, sigmaSignal = SigmaSignalSlice(0.01,20,100, gap , detector_size/2)\n",
    "sum_s = np.array([])\n",
    "for sig in sigma:\n",
    "    beam = qd.laser(detector_size, axis_size, 0, 0, sig)\n",
    "    sum_s = np.append(sum_s, np.sum(beam * detect))\n",
    "print(sum_s.shape)\n",
    "plt.plot(sigma, sigmaSignal, label='scipy')\n",
    "plt.plot(sigma, sum_s, label='our code')\n",
    "plt.xlabel(r\"$\\sigma$\", fontsize=28, color='blue')\n",
    "plt.ylabel(r\"$\\mathrm{Signal}$\", fontsize=24)\n",
    "#plt.ylim(0.0,1.1)\n",
    "plt.xlim(0,20)\n",
    "plt.legend()\n",
    "plt.show()\n",
    "imax = np.argmax(sigmaSignal)\n",
    "print(sigma[imax])\n"
   ]
  },
  {
   "cell_type": "code",
   "execution_count": 4,
   "metadata": {
    "inputHidden": false,
    "outputHidden": false
   },
   "outputs": [
    {
     "data": {
      "text/plain": [
       "0.04161170997446785"
      ]
     },
     "execution_count": 4,
     "metadata": {},
     "output_type": "execute_result"
    }
   ],
   "source": [
    "qd.total_signal(5, 4, 5)"
   ]
  },
  {
   "cell_type": "code",
   "execution_count": null,
   "metadata": {
    "inputHidden": false,
    "outputHidden": false
   },
   "outputs": [],
   "source": []
  }
 ],
 "metadata": {
  "kernel_info": {
   "name": "python3"
  },
  "kernelspec": {
   "display_name": "Python 3",
   "language": "python",
   "name": "python3"
  },
  "language_info": {
   "codemirror_mode": {
    "name": "ipython",
    "version": 3
   },
   "file_extension": ".py",
   "mimetype": "text/x-python",
   "name": "python",
   "nbconvert_exporter": "python",
   "pygments_lexer": "ipython3",
   "version": "3.7.3"
  },
  "nteract": {
   "version": "0.14.3"
  },
  "toc": {
   "base_numbering": 1,
   "nav_menu": {},
   "number_sections": false,
   "sideBar": false,
   "skip_h1_title": false,
   "title_cell": "Table of Contents",
   "title_sidebar": "Contents",
   "toc_cell": false,
   "toc_position": {},
   "toc_section_display": false,
   "toc_window_display": false
  }
 },
 "nbformat": 4,
 "nbformat_minor": 1
}
