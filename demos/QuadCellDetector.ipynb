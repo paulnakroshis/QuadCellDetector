version https://git-lfs.github.com/spec/v1
oid sha256:da0769c82f3531d591ab3c8a365d9a4a93915d1e535480efa92a34e4cc48794d
size 1722249
